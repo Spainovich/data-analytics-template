{
 "cells": [
  {
   "cell_type": "markdown",
   "id": "2b0cf21c-dfcb-424f-b145-328569799191",
   "metadata": {},
   "source": [
    "# Project name"
   ]
  },
  {
   "cell_type": "markdown",
   "id": "c87b0fa9-455a-4d49-8006-149c74b57ed7",
   "metadata": {},
   "source": [
    "**Author:** Sophia Painovich\n",
    "**Last Modified** 11-13-2024 (created: 11-13-2024)\n",
    "\n",
    "**Description** Short paragraph explaining this project."
   ]
  },
  {
   "cell_type": "markdown",
   "id": "b297f980-6e60-4c90-8063-1c5ec572b1b9",
   "metadata": {},
   "source": [
    "<br>"
   ]
  },
  {
   "cell_type": "markdown",
   "id": "017dabf0-41d3-4a1b-92e3-49cbce37789b",
   "metadata": {},
   "source": [
    "Import Libraries"
   ]
  },
  {
   "cell_type": "code",
   "execution_count": 1,
   "id": "afb8a932-849d-4ce8-8625-0ad7241c7d8b",
   "metadata": {},
   "outputs": [],
   "source": [
    "import pandas as pd"
   ]
  },
  {
   "cell_type": "markdown",
   "id": "6df4e96d-b04b-4726-8d5f-f8bc6809d485",
   "metadata": {},
   "source": [
    "Load Data: "
   ]
  },
  {
   "cell_type": "code",
   "execution_count": 2,
   "id": "e814dd68-10ec-4dc7-9118-dc19a1078ccb",
   "metadata": {},
   "outputs": [],
   "source": [
    "# code to read csv file"
   ]
  }
 ],
 "metadata": {
  "kernelspec": {
   "display_name": "Python 3 (ipykernel)",
   "language": "python",
   "name": "python3"
  },
  "language_info": {
   "codemirror_mode": {
    "name": "ipython",
    "version": 3
   },
   "file_extension": ".py",
   "mimetype": "text/x-python",
   "name": "python",
   "nbconvert_exporter": "python",
   "pygments_lexer": "ipython3",
   "version": "3.11.9"
  }
 },
 "nbformat": 4,
 "nbformat_minor": 5
}
